{
  "nbformat": 4,
  "nbformat_minor": 0,
  "metadata": {
    "colab": {
      "name": "Identification_of_Crime_Prone_Areas_V2.ipynb",
      "provenance": [],
      "collapsed_sections": [],
      "toc_visible": true
    },
    "kernelspec": {
      "display_name": "Python 3",
      "name": "python3"
    },
    "language_info": {
      "name": "python"
    }
  },
  "cells": [
    {
      "cell_type": "markdown",
      "metadata": {
        "id": "fzx6ocCSuaer"
      },
      "source": [
        "# **Identification of Crime Prone Areas**\n",
        "\n",
        "**Group ID:** 16\n",
        "\n",
        "**Group Guides:**\n",
        "\n",
        "Dr.Irfan Siddavatam\n",
        "\n",
        "\n",
        "\n",
        "**Group Members:**\n",
        "\n",
        "1814002 - Dhruv Doshi\n",
        "\n",
        "1814006 - Shubham Bhakuni\n",
        "\n",
        "1814015 - Labdhi Jain\n",
        "\n",
        "1814021 - Kunj Gala\n",
        "\n",
        "\n",
        "**Dataset to be used:** NYPD Dataset (5 Million plus rows, 19 columns)\n",
        "\n",
        "**Objectives for demonstration:**\n",
        "\n",
        "\n",
        "1. Data Preprocessing\n",
        "\n",
        "\n",
        "*   Data Cleaning\n",
        "*   Data Reduction\n",
        "*   Data Integration\n",
        "*   Data Conversion\n",
        "*   Data Sampling\n",
        "*   Creating Dummy Variables (one-Hot Encoding)\n",
        "\n",
        "2. Data Visualization"
      ]
    },
    {
      "cell_type": "markdown",
      "metadata": {
        "id": "0DMI0ObNwWUU"
      },
      "source": [
        "# Data Sampling"
      ]
    },
    {
      "cell_type": "code",
      "metadata": {
        "id": "IXXnMhnWQv4S"
      },
      "source": [
        "import pandas as pd\n",
        "!pip install -U -q PyDrive\n",
        "from pydrive.auth import GoogleAuth\n",
        "from pydrive.drive import GoogleDrive\n",
        "from google.colab import auth\n",
        "from oauth2client.client import GoogleCredentials\n",
        "auth.authenticate_user()\n",
        "gauth = GoogleAuth()\n",
        "gauth.credentials = GoogleCredentials.get_application_default()\n",
        "drive = GoogleDrive(gauth)\n",
        "link = 'https://drive.google.com/file/d/1ENQyS4FYMLjw5mTK-V-CY67Hrx2L1Hu0/view?usp=sharing'\n",
        "\n",
        "id = link.split(\"/\")[-2]\n",
        "\n",
        "downloaded = drive.CreateFile({'id':id}) \n",
        "downloaded.GetContentFile('df_after_conversion.csv')  \n",
        "\n",
        "df = pd.read_csv('df_after_conversion.csv')"
      ],
      "execution_count": null,
      "outputs": []
    },
    {
      "cell_type": "code",
      "metadata": {
        "id": "t9jShKo5REfE",
        "colab": {
          "base_uri": "https://localhost:8080/"
        },
        "outputId": "3c126815-73a4-466c-e417-229d718a6483"
      },
      "source": [
        "max(df['Latitude'])"
      ],
      "execution_count": null,
      "outputs": [
        {
          "output_type": "execute_result",
          "data": {
            "text/plain": [
              "40.914065"
            ]
          },
          "metadata": {},
          "execution_count": 4
        }
      ]
    },
    {
      "cell_type": "code",
      "metadata": {
        "id": "5kXn__pDSsoI",
        "colab": {
          "base_uri": "https://localhost:8080/"
        },
        "outputId": "d448cd46-2629-41fe-a6d1-07a364a89783"
      },
      "source": [
        "min(df['Latitude'])"
      ],
      "execution_count": null,
      "outputs": [
        {
          "output_type": "execute_result",
          "data": {
            "text/plain": [
              "40.498905"
            ]
          },
          "metadata": {},
          "execution_count": 5
        }
      ]
    },
    {
      "cell_type": "code",
      "metadata": {
        "id": "gHPD3Qk4S1Ib",
        "colab": {
          "base_uri": "https://localhost:8080/"
        },
        "outputId": "a3a8bbcd-36c8-4c5c-8f17-c1c6d6998680"
      },
      "source": [
        "max(df['Longitude'])"
      ],
      "execution_count": null,
      "outputs": [
        {
          "output_type": "execute_result",
          "data": {
            "text/plain": [
              "-73.700291"
            ]
          },
          "metadata": {},
          "execution_count": 6
        }
      ]
    },
    {
      "cell_type": "code",
      "metadata": {
        "id": "7gGLjhUBS4nR",
        "colab": {
          "base_uri": "https://localhost:8080/"
        },
        "outputId": "70939363-a5d5-42d2-a829-d90aa933bc59"
      },
      "source": [
        "min(df['Longitude'])"
      ],
      "execution_count": null,
      "outputs": [
        {
          "output_type": "execute_result",
          "data": {
            "text/plain": [
              "-74.25456"
            ]
          },
          "metadata": {},
          "execution_count": 7
        }
      ]
    },
    {
      "cell_type": "code",
      "metadata": {
        "id": "FlmxFlBUS6np"
      },
      "source": [
        "diff_lat = max(df['Latitude'])-min(df['Latitude'])\n",
        "diff_long = max(df['Longitude']) - min(df['Longitude'])"
      ],
      "execution_count": null,
      "outputs": []
    },
    {
      "cell_type": "code",
      "metadata": {
        "id": "RRyxXH0jUK1Q"
      },
      "source": [
        "df = df.sample(frac =.25, random_state=25)"
      ],
      "execution_count": null,
      "outputs": []
    },
    {
      "cell_type": "code",
      "metadata": {
        "id": "hTR1yo1SZaKS",
        "colab": {
          "base_uri": "https://localhost:8080/"
        },
        "outputId": "030d3bb2-5e1f-4cd0-8ae6-ce2c1c139b39"
      },
      "source": [
        "df.shape"
      ],
      "execution_count": null,
      "outputs": [
        {
          "output_type": "execute_result",
          "data": {
            "text/plain": [
              "(1217801, 13)"
            ]
          },
          "metadata": {},
          "execution_count": 10
        }
      ]
    },
    {
      "cell_type": "markdown",
      "metadata": {
        "id": "3F6Vm3boWQNg"
      },
      "source": [
        "# Creating Dummy Variables (one-Hot Encoding)"
      ]
    },
    {
      "cell_type": "code",
      "metadata": {
        "id": "kR4QIW25VQ9U"
      },
      "source": [
        "df_dummy = pd.get_dummies(df, columns=['PATRL_BORO_NM','CIP_JOBS'])"
      ],
      "execution_count": null,
      "outputs": []
    },
    {
      "cell_type": "code",
      "metadata": {
        "id": "HfMLFsS9XWlX"
      },
      "source": [
        "df_dummy.drop(df_dummy[df_dummy['PATRL_BORO_NM_(null)']==1].index,axis=0,inplace=True)"
      ],
      "execution_count": null,
      "outputs": []
    },
    {
      "cell_type": "code",
      "metadata": {
        "id": "4i9WozzVYdid",
        "colab": {
          "base_uri": "https://localhost:8080/",
          "height": 330
        },
        "outputId": "06538e39-6a53-4b97-cb2b-79da80e0e502"
      },
      "source": [
        "df_dummy.head()"
      ],
      "execution_count": null,
      "outputs": [
        {
          "output_type": "execute_result",
          "data": {
            "text/html": [
              "<div>\n",
              "<style scoped>\n",
              "    .dataframe tbody tr th:only-of-type {\n",
              "        vertical-align: middle;\n",
              "    }\n",
              "\n",
              "    .dataframe tbody tr th {\n",
              "        vertical-align: top;\n",
              "    }\n",
              "\n",
              "    .dataframe thead th {\n",
              "        text-align: right;\n",
              "    }\n",
              "</style>\n",
              "<table border=\"1\" class=\"dataframe\">\n",
              "  <thead>\n",
              "    <tr style=\"text-align: right;\">\n",
              "      <th></th>\n",
              "      <th>Unnamed: 0</th>\n",
              "      <th>CAD_EVNT_ID</th>\n",
              "      <th>NYPD_PCT_CD</th>\n",
              "      <th>RADIO_CODE</th>\n",
              "      <th>ADD_TS</th>\n",
              "      <th>DISP_TS</th>\n",
              "      <th>ARRIVD_TS</th>\n",
              "      <th>CLOSNG_TS</th>\n",
              "      <th>Latitude</th>\n",
              "      <th>Longitude</th>\n",
              "      <th>INCIDENT_DATE_TIME</th>\n",
              "      <th>PATRL_BORO_NM_(null)</th>\n",
              "      <th>PATRL_BORO_NM_PATROL BORO BKLYN NORTH</th>\n",
              "      <th>PATRL_BORO_NM_PATROL BORO BKLYN SOUTH</th>\n",
              "      <th>PATRL_BORO_NM_PATROL BORO BRONX</th>\n",
              "      <th>PATRL_BORO_NM_PATROL BORO MAN NORTH</th>\n",
              "      <th>PATRL_BORO_NM_PATROL BORO MAN SOUTH</th>\n",
              "      <th>PATRL_BORO_NM_PATROL BORO QUEENS NORTH</th>\n",
              "      <th>PATRL_BORO_NM_PATROL BORO QUEENS SOUTH</th>\n",
              "      <th>PATRL_BORO_NM_PATROL BORO STATEN ISLAND</th>\n",
              "      <th>CIP_JOBS_Critical</th>\n",
              "      <th>CIP_JOBS_Non CIP</th>\n",
              "      <th>CIP_JOBS_Non Critical</th>\n",
              "      <th>CIP_JOBS_Serious</th>\n",
              "    </tr>\n",
              "  </thead>\n",
              "  <tbody>\n",
              "    <tr>\n",
              "      <th>1235751</th>\n",
              "      <td>1235751</td>\n",
              "      <td>75164512</td>\n",
              "      <td>110.0</td>\n",
              "      <td>68Q1</td>\n",
              "      <td>2021-02-25 11:50:22</td>\n",
              "      <td>2021-02-25 11:50:22</td>\n",
              "      <td>2021-02-25 11:50:22</td>\n",
              "      <td>2021-02-25 12:05:46</td>\n",
              "      <td>40.744688</td>\n",
              "      <td>-73.886730</td>\n",
              "      <td>2021-02-25 11:50:22</td>\n",
              "      <td>0</td>\n",
              "      <td>0</td>\n",
              "      <td>0</td>\n",
              "      <td>0</td>\n",
              "      <td>0</td>\n",
              "      <td>0</td>\n",
              "      <td>1</td>\n",
              "      <td>0</td>\n",
              "      <td>0</td>\n",
              "      <td>0</td>\n",
              "      <td>1</td>\n",
              "      <td>0</td>\n",
              "      <td>0</td>\n",
              "    </tr>\n",
              "    <tr>\n",
              "      <th>1216382</th>\n",
              "      <td>1216382</td>\n",
              "      <td>75641269</td>\n",
              "      <td>106.0</td>\n",
              "      <td>53S</td>\n",
              "      <td>2021-03-18 15:07:49</td>\n",
              "      <td>2021-03-18 15:40:27</td>\n",
              "      <td>2021-03-18 16:52:30</td>\n",
              "      <td>2021-03-18 16:59:50</td>\n",
              "      <td>40.672109</td>\n",
              "      <td>-73.813611</td>\n",
              "      <td>2021-03-18 15:07:49</td>\n",
              "      <td>0</td>\n",
              "      <td>0</td>\n",
              "      <td>0</td>\n",
              "      <td>0</td>\n",
              "      <td>0</td>\n",
              "      <td>0</td>\n",
              "      <td>0</td>\n",
              "      <td>1</td>\n",
              "      <td>0</td>\n",
              "      <td>0</td>\n",
              "      <td>1</td>\n",
              "      <td>0</td>\n",
              "      <td>0</td>\n",
              "    </tr>\n",
              "    <tr>\n",
              "      <th>4583761</th>\n",
              "      <td>4583761</td>\n",
              "      <td>79839657</td>\n",
              "      <td>120.0</td>\n",
              "      <td>10V2</td>\n",
              "      <td>2021-09-15 10:42:24</td>\n",
              "      <td>2021-09-15 10:42:24</td>\n",
              "      <td>2021-09-15 10:42:24</td>\n",
              "      <td>2021-09-15 10:55:47</td>\n",
              "      <td>40.615530</td>\n",
              "      <td>-74.084689</td>\n",
              "      <td>2021-09-15 10:42:24</td>\n",
              "      <td>0</td>\n",
              "      <td>0</td>\n",
              "      <td>0</td>\n",
              "      <td>0</td>\n",
              "      <td>0</td>\n",
              "      <td>0</td>\n",
              "      <td>0</td>\n",
              "      <td>0</td>\n",
              "      <td>1</td>\n",
              "      <td>0</td>\n",
              "      <td>1</td>\n",
              "      <td>0</td>\n",
              "      <td>0</td>\n",
              "    </tr>\n",
              "    <tr>\n",
              "      <th>481231</th>\n",
              "      <td>481231</td>\n",
              "      <td>74106547</td>\n",
              "      <td>73.0</td>\n",
              "      <td>75F</td>\n",
              "      <td>2021-01-07 11:29:27</td>\n",
              "      <td>2021-01-07 11:29:29</td>\n",
              "      <td>2021-01-07 12:43:40</td>\n",
              "      <td>2021-01-07 12:55:12</td>\n",
              "      <td>40.667599</td>\n",
              "      <td>-73.916026</td>\n",
              "      <td>2021-01-07 11:29:27</td>\n",
              "      <td>0</td>\n",
              "      <td>1</td>\n",
              "      <td>0</td>\n",
              "      <td>0</td>\n",
              "      <td>0</td>\n",
              "      <td>0</td>\n",
              "      <td>0</td>\n",
              "      <td>0</td>\n",
              "      <td>0</td>\n",
              "      <td>0</td>\n",
              "      <td>1</td>\n",
              "      <td>0</td>\n",
              "      <td>0</td>\n",
              "    </tr>\n",
              "    <tr>\n",
              "      <th>4186316</th>\n",
              "      <td>4186316</td>\n",
              "      <td>79325508</td>\n",
              "      <td>41.0</td>\n",
              "      <td>75S</td>\n",
              "      <td>2021-08-24 09:39:16</td>\n",
              "      <td>2021-08-24 09:39:16</td>\n",
              "      <td>2021-08-24 09:39:16</td>\n",
              "      <td>2021-08-24 09:41:15</td>\n",
              "      <td>40.816569</td>\n",
              "      <td>-73.896629</td>\n",
              "      <td>2021-08-24 09:39:16</td>\n",
              "      <td>0</td>\n",
              "      <td>0</td>\n",
              "      <td>0</td>\n",
              "      <td>1</td>\n",
              "      <td>0</td>\n",
              "      <td>0</td>\n",
              "      <td>0</td>\n",
              "      <td>0</td>\n",
              "      <td>0</td>\n",
              "      <td>0</td>\n",
              "      <td>1</td>\n",
              "      <td>0</td>\n",
              "      <td>0</td>\n",
              "    </tr>\n",
              "  </tbody>\n",
              "</table>\n",
              "</div>"
            ],
            "text/plain": [
              "         Unnamed: 0  CAD_EVNT_ID  ...  CIP_JOBS_Non Critical CIP_JOBS_Serious\n",
              "1235751     1235751     75164512  ...                      0                0\n",
              "1216382     1216382     75641269  ...                      0                0\n",
              "4583761     4583761     79839657  ...                      0                0\n",
              "481231       481231     74106547  ...                      0                0\n",
              "4186316     4186316     79325508  ...                      0                0\n",
              "\n",
              "[5 rows x 24 columns]"
            ]
          },
          "metadata": {},
          "execution_count": 13
        }
      ]
    },
    {
      "cell_type": "code",
      "metadata": {
        "id": "C65kXwzAY0pb"
      },
      "source": [
        "df_dummy.drop(['Unnamed: 0','PATRL_BORO_NM_(null)'],axis=1,inplace=True)"
      ],
      "execution_count": null,
      "outputs": []
    },
    {
      "cell_type": "code",
      "metadata": {
        "id": "2ZNWtLheZt_P",
        "colab": {
          "base_uri": "https://localhost:8080/",
          "height": 330
        },
        "outputId": "60a5530a-6e04-4e60-8f62-90f3f9d396ba"
      },
      "source": [
        "df_dummy.head()"
      ],
      "execution_count": null,
      "outputs": [
        {
          "output_type": "execute_result",
          "data": {
            "text/html": [
              "<div>\n",
              "<style scoped>\n",
              "    .dataframe tbody tr th:only-of-type {\n",
              "        vertical-align: middle;\n",
              "    }\n",
              "\n",
              "    .dataframe tbody tr th {\n",
              "        vertical-align: top;\n",
              "    }\n",
              "\n",
              "    .dataframe thead th {\n",
              "        text-align: right;\n",
              "    }\n",
              "</style>\n",
              "<table border=\"1\" class=\"dataframe\">\n",
              "  <thead>\n",
              "    <tr style=\"text-align: right;\">\n",
              "      <th></th>\n",
              "      <th>CAD_EVNT_ID</th>\n",
              "      <th>NYPD_PCT_CD</th>\n",
              "      <th>RADIO_CODE</th>\n",
              "      <th>ADD_TS</th>\n",
              "      <th>DISP_TS</th>\n",
              "      <th>ARRIVD_TS</th>\n",
              "      <th>CLOSNG_TS</th>\n",
              "      <th>Latitude</th>\n",
              "      <th>Longitude</th>\n",
              "      <th>INCIDENT_DATE_TIME</th>\n",
              "      <th>PATRL_BORO_NM_PATROL BORO BKLYN NORTH</th>\n",
              "      <th>PATRL_BORO_NM_PATROL BORO BKLYN SOUTH</th>\n",
              "      <th>PATRL_BORO_NM_PATROL BORO BRONX</th>\n",
              "      <th>PATRL_BORO_NM_PATROL BORO MAN NORTH</th>\n",
              "      <th>PATRL_BORO_NM_PATROL BORO MAN SOUTH</th>\n",
              "      <th>PATRL_BORO_NM_PATROL BORO QUEENS NORTH</th>\n",
              "      <th>PATRL_BORO_NM_PATROL BORO QUEENS SOUTH</th>\n",
              "      <th>PATRL_BORO_NM_PATROL BORO STATEN ISLAND</th>\n",
              "      <th>CIP_JOBS_Critical</th>\n",
              "      <th>CIP_JOBS_Non CIP</th>\n",
              "      <th>CIP_JOBS_Non Critical</th>\n",
              "      <th>CIP_JOBS_Serious</th>\n",
              "    </tr>\n",
              "  </thead>\n",
              "  <tbody>\n",
              "    <tr>\n",
              "      <th>1235751</th>\n",
              "      <td>75164512</td>\n",
              "      <td>110.0</td>\n",
              "      <td>68Q1</td>\n",
              "      <td>2021-02-25 11:50:22</td>\n",
              "      <td>2021-02-25 11:50:22</td>\n",
              "      <td>2021-02-25 11:50:22</td>\n",
              "      <td>2021-02-25 12:05:46</td>\n",
              "      <td>40.744688</td>\n",
              "      <td>-73.886730</td>\n",
              "      <td>2021-02-25 11:50:22</td>\n",
              "      <td>0</td>\n",
              "      <td>0</td>\n",
              "      <td>0</td>\n",
              "      <td>0</td>\n",
              "      <td>0</td>\n",
              "      <td>1</td>\n",
              "      <td>0</td>\n",
              "      <td>0</td>\n",
              "      <td>0</td>\n",
              "      <td>1</td>\n",
              "      <td>0</td>\n",
              "      <td>0</td>\n",
              "    </tr>\n",
              "    <tr>\n",
              "      <th>1216382</th>\n",
              "      <td>75641269</td>\n",
              "      <td>106.0</td>\n",
              "      <td>53S</td>\n",
              "      <td>2021-03-18 15:07:49</td>\n",
              "      <td>2021-03-18 15:40:27</td>\n",
              "      <td>2021-03-18 16:52:30</td>\n",
              "      <td>2021-03-18 16:59:50</td>\n",
              "      <td>40.672109</td>\n",
              "      <td>-73.813611</td>\n",
              "      <td>2021-03-18 15:07:49</td>\n",
              "      <td>0</td>\n",
              "      <td>0</td>\n",
              "      <td>0</td>\n",
              "      <td>0</td>\n",
              "      <td>0</td>\n",
              "      <td>0</td>\n",
              "      <td>1</td>\n",
              "      <td>0</td>\n",
              "      <td>0</td>\n",
              "      <td>1</td>\n",
              "      <td>0</td>\n",
              "      <td>0</td>\n",
              "    </tr>\n",
              "    <tr>\n",
              "      <th>4583761</th>\n",
              "      <td>79839657</td>\n",
              "      <td>120.0</td>\n",
              "      <td>10V2</td>\n",
              "      <td>2021-09-15 10:42:24</td>\n",
              "      <td>2021-09-15 10:42:24</td>\n",
              "      <td>2021-09-15 10:42:24</td>\n",
              "      <td>2021-09-15 10:55:47</td>\n",
              "      <td>40.615530</td>\n",
              "      <td>-74.084689</td>\n",
              "      <td>2021-09-15 10:42:24</td>\n",
              "      <td>0</td>\n",
              "      <td>0</td>\n",
              "      <td>0</td>\n",
              "      <td>0</td>\n",
              "      <td>0</td>\n",
              "      <td>0</td>\n",
              "      <td>0</td>\n",
              "      <td>1</td>\n",
              "      <td>0</td>\n",
              "      <td>1</td>\n",
              "      <td>0</td>\n",
              "      <td>0</td>\n",
              "    </tr>\n",
              "    <tr>\n",
              "      <th>481231</th>\n",
              "      <td>74106547</td>\n",
              "      <td>73.0</td>\n",
              "      <td>75F</td>\n",
              "      <td>2021-01-07 11:29:27</td>\n",
              "      <td>2021-01-07 11:29:29</td>\n",
              "      <td>2021-01-07 12:43:40</td>\n",
              "      <td>2021-01-07 12:55:12</td>\n",
              "      <td>40.667599</td>\n",
              "      <td>-73.916026</td>\n",
              "      <td>2021-01-07 11:29:27</td>\n",
              "      <td>1</td>\n",
              "      <td>0</td>\n",
              "      <td>0</td>\n",
              "      <td>0</td>\n",
              "      <td>0</td>\n",
              "      <td>0</td>\n",
              "      <td>0</td>\n",
              "      <td>0</td>\n",
              "      <td>0</td>\n",
              "      <td>1</td>\n",
              "      <td>0</td>\n",
              "      <td>0</td>\n",
              "    </tr>\n",
              "    <tr>\n",
              "      <th>4186316</th>\n",
              "      <td>79325508</td>\n",
              "      <td>41.0</td>\n",
              "      <td>75S</td>\n",
              "      <td>2021-08-24 09:39:16</td>\n",
              "      <td>2021-08-24 09:39:16</td>\n",
              "      <td>2021-08-24 09:39:16</td>\n",
              "      <td>2021-08-24 09:41:15</td>\n",
              "      <td>40.816569</td>\n",
              "      <td>-73.896629</td>\n",
              "      <td>2021-08-24 09:39:16</td>\n",
              "      <td>0</td>\n",
              "      <td>0</td>\n",
              "      <td>1</td>\n",
              "      <td>0</td>\n",
              "      <td>0</td>\n",
              "      <td>0</td>\n",
              "      <td>0</td>\n",
              "      <td>0</td>\n",
              "      <td>0</td>\n",
              "      <td>1</td>\n",
              "      <td>0</td>\n",
              "      <td>0</td>\n",
              "    </tr>\n",
              "  </tbody>\n",
              "</table>\n",
              "</div>"
            ],
            "text/plain": [
              "         CAD_EVNT_ID  NYPD_PCT_CD  ... CIP_JOBS_Non Critical CIP_JOBS_Serious\n",
              "1235751     75164512        110.0  ...                     0                0\n",
              "1216382     75641269        106.0  ...                     0                0\n",
              "4583761     79839657        120.0  ...                     0                0\n",
              "481231      74106547         73.0  ...                     0                0\n",
              "4186316     79325508         41.0  ...                     0                0\n",
              "\n",
              "[5 rows x 22 columns]"
            ]
          },
          "metadata": {},
          "execution_count": 15
        }
      ]
    },
    {
      "cell_type": "code",
      "metadata": {
        "id": "KJ3OH5tLZvvv",
        "colab": {
          "base_uri": "https://localhost:8080/"
        },
        "outputId": "195ca284-ec70-469d-e889-77c7a581cc6c"
      },
      "source": [
        "df_dummy.columns"
      ],
      "execution_count": null,
      "outputs": [
        {
          "output_type": "execute_result",
          "data": {
            "text/plain": [
              "Index(['CAD_EVNT_ID', 'NYPD_PCT_CD', 'RADIO_CODE', 'ADD_TS', 'DISP_TS',\n",
              "       'ARRIVD_TS', 'CLOSNG_TS', 'Latitude', 'Longitude', 'INCIDENT_DATE_TIME',\n",
              "       'PATRL_BORO_NM_PATROL BORO BKLYN NORTH',\n",
              "       'PATRL_BORO_NM_PATROL BORO BKLYN SOUTH',\n",
              "       'PATRL_BORO_NM_PATROL BORO BRONX',\n",
              "       'PATRL_BORO_NM_PATROL BORO MAN NORTH',\n",
              "       'PATRL_BORO_NM_PATROL BORO MAN SOUTH',\n",
              "       'PATRL_BORO_NM_PATROL BORO QUEENS NORTH',\n",
              "       'PATRL_BORO_NM_PATROL BORO QUEENS SOUTH',\n",
              "       'PATRL_BORO_NM_PATROL BORO STATEN ISLAND', 'CIP_JOBS_Critical',\n",
              "       'CIP_JOBS_Non CIP', 'CIP_JOBS_Non Critical', 'CIP_JOBS_Serious'],\n",
              "      dtype='object')"
            ]
          },
          "metadata": {},
          "execution_count": 17
        }
      ]
    },
    {
      "cell_type": "code",
      "metadata": {
        "colab": {
          "base_uri": "https://localhost:8080/"
        },
        "id": "xbeoJPZsNpf7",
        "outputId": "fce7af0f-a5fd-403e-b3e5-b706c547977c"
      },
      "source": [
        "df_dummy.shape"
      ],
      "execution_count": null,
      "outputs": [
        {
          "output_type": "execute_result",
          "data": {
            "text/plain": [
              "(1217784, 22)"
            ]
          },
          "metadata": {},
          "execution_count": 18
        }
      ]
    },
    {
      "cell_type": "code",
      "metadata": {
        "id": "gleNVfdmNq_R"
      },
      "source": [
        ""
      ],
      "execution_count": null,
      "outputs": []
    }
  ]
}